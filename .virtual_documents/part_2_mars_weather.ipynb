


# Import relevant libraries
from splinter import Browser
from bs4 import BeautifulSoup
import matplotlib.pyplot as plt
import pandas as pd
import requests


# browser = Browser('chrome')





# Visit the website
# https://static.bc-edx.com/data/web/mars_facts/temperature.html
url = "https://static.bc-edx.com/data/web/mars_facts/temperature.html"
response = requests.get(url)


response





# Create a Beautiful Soup Object
soup = BeautifulSoup(response.content, "html.parser")


# Extract all rows of data
rows = soup.find_all("tr", class_ = "data-row")





# Create an empty list
list_rows = []
# Loop through the scraped data to create a list of rows
for i in rows:
    td = i.find_all("td")
    row = [col.text for col in td]
    list_rows.append(row)


# Create a Pandas DataFrame by using the list of rows and a list of the column names
df = pd.DataFrame(list_rows, columns = ["id","terrestrial_date","sol","ls","month","min_temp","pressure"])


# Confirm DataFrame was created successfully
df.head()





# Examine data type of each column
df.dtypes


# Change data types for data analysis
df.id = df.id.astype("int")
df.terrestrial_date = pd.to_datetime(df.terrestrial_date)
df.sol = df.sol.astype("int")
df.ls = df.ls.astype("int")
df.month = df.month.astype("int")
df.min_temp = df.min_temp.astype("float")
df.pressure = df.pressure.astype("float")


# Confirm type changes were successful by examining data types again
df.dtypes





# 1. How many months are there on Mars?
df.month.value_counts().sort_index()


# 2. How many Martian days' worth of data are there?
# len(df)
df.sol.nunique()


# 3. What is the average low temperature by month?
avg_temp = df.groupby("month")["min_temp"].mean()


# Plot the average temperature by month
avg_temp.plot(kind="bar")
plt.plot();


# Identify the coldest and hottest months in Curiosity's location
avg_temp.sort_values().plot(kind="bar")
plt.plot();


# 4. Average pressure by Martian month
avg_pressure = df.groupby("month")["pressure"].mean()


# Plot the average pressure by month
avg_pressure.sort_values().plot(kind="bar")
plt.plot();


# 5. How many terrestrial (earth) days are there in a Martian year?
df.min_temp.plot()
plt.ylabel("Temperature")
plt.xlabel("Days")
plt.grid()
plt.plot();














# Write the data to a CSV
df.to_json("mars_data.json")


# browser.quit()



