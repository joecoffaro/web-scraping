


# Import Splinter and BeautifulSoup
from splinter import Browser
from bs4 import BeautifulSoup as soup


import requests





# Visit the Mars news site
url = 'https://static.bc-edx.com/data/web/mars_news/index.html'
response = requests.get(url)


response





# Extract all the text elements
new_soup = soup(response.content, "html.parser")


text_elems = new_soup.find_all("div", class_ = "list_text")





# Create an empty list to store the dictionaries
news_items = []


# Loop through the text elements
# Extract the title and preview text from the elements
# Store each title and preview pair in a dictionary
# Add the dictionary to the list
for i in text_elems:
    title = i.find("div",class_="content_title").text
    article = i.find("div",class_="article_teaser_body").text
    news_item = {
        "title" : title,
        "article" : article
    }
    news_items.append(news_item)


# Print the list to confirm success
news_items


# browser.quit()



